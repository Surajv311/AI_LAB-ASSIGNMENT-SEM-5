{
 "cells": [
  {
   "cell_type": "code",
   "execution_count": 76,
   "metadata": {},
   "outputs": [],
   "source": [
    "# SURAJ VERMA \n",
    "# AI LAB. \n",
    "# BAYESIAN CLASSIFICATION & DECISION TREES ON CHESS DATASET\n",
    "# necessary comments have been included. "
   ]
  },
  {
   "cell_type": "code",
   "execution_count": 28,
   "metadata": {},
   "outputs": [],
   "source": [
    "# importing the libraries - numpy, pandas, matplotlib, sklearn.\n",
    "import numpy as np\n",
    "import matplotlib.pyplot as plt\n",
    "import pandas as pd\n",
    "from sklearn.preprocessing import LabelEncoder\n",
    "from sklearn.metrics import accuracy_score, confusion_matrix, classification_report\n",
    "from sklearn.model_selection import train_test_split\n",
    "from sklearn.naive_bayes import GaussianNB\n",
    "from sklearn.tree import DecisionTreeClassifier"
   ]
  },
  {
   "cell_type": "code",
   "execution_count": 29,
   "metadata": {},
   "outputs": [],
   "source": [
    "# importing the data from the dataset\n",
    "data = pd.read_csv('games.csv')"
   ]
  },
  {
   "cell_type": "code",
   "execution_count": 30,
   "metadata": {},
   "outputs": [
    {
     "name": "stdout",
     "output_type": "stream",
     "text": [
      "<class 'pandas.core.frame.DataFrame'>\n",
      "RangeIndex: 20058 entries, 0 to 20057\n",
      "Data columns (total 16 columns):\n",
      " #   Column          Non-Null Count  Dtype  \n",
      "---  ------          --------------  -----  \n",
      " 0   id              20058 non-null  object \n",
      " 1   rated           20058 non-null  bool   \n",
      " 2   created_at      20058 non-null  float64\n",
      " 3   last_move_at    20058 non-null  float64\n",
      " 4   turns           20058 non-null  int64  \n",
      " 5   victory_status  20058 non-null  object \n",
      " 6   winner          20058 non-null  object \n",
      " 7   increment_code  20058 non-null  object \n",
      " 8   white_id        20058 non-null  object \n",
      " 9   white_rating    20058 non-null  int64  \n",
      " 10  black_id        20058 non-null  object \n",
      " 11  black_rating    20058 non-null  int64  \n",
      " 12  moves           20058 non-null  object \n",
      " 13  opening_eco     20058 non-null  object \n",
      " 14  opening_name    20058 non-null  object \n",
      " 15  opening_ply     20058 non-null  int64  \n",
      "dtypes: bool(1), float64(2), int64(4), object(9)\n",
      "memory usage: 2.3+ MB\n"
     ]
    }
   ],
   "source": [
    "data.info() # a basic info about the data set. "
   ]
  },
  {
   "cell_type": "code",
   "execution_count": 31,
   "metadata": {},
   "outputs": [
    {
     "data": {
      "text/html": [
       "<div>\n",
       "<style scoped>\n",
       "    .dataframe tbody tr th:only-of-type {\n",
       "        vertical-align: middle;\n",
       "    }\n",
       "\n",
       "    .dataframe tbody tr th {\n",
       "        vertical-align: top;\n",
       "    }\n",
       "\n",
       "    .dataframe thead th {\n",
       "        text-align: right;\n",
       "    }\n",
       "</style>\n",
       "<table border=\"1\" class=\"dataframe\">\n",
       "  <thead>\n",
       "    <tr style=\"text-align: right;\">\n",
       "      <th></th>\n",
       "      <th>id</th>\n",
       "      <th>rated</th>\n",
       "      <th>created_at</th>\n",
       "      <th>last_move_at</th>\n",
       "      <th>turns</th>\n",
       "      <th>victory_status</th>\n",
       "      <th>winner</th>\n",
       "      <th>increment_code</th>\n",
       "      <th>white_id</th>\n",
       "      <th>white_rating</th>\n",
       "      <th>black_id</th>\n",
       "      <th>black_rating</th>\n",
       "      <th>moves</th>\n",
       "      <th>opening_eco</th>\n",
       "      <th>opening_name</th>\n",
       "      <th>opening_ply</th>\n",
       "    </tr>\n",
       "  </thead>\n",
       "  <tbody>\n",
       "    <tr>\n",
       "      <th>0</th>\n",
       "      <td>TZJHLljE</td>\n",
       "      <td>False</td>\n",
       "      <td>1.504210e+12</td>\n",
       "      <td>1.504210e+12</td>\n",
       "      <td>13</td>\n",
       "      <td>outoftime</td>\n",
       "      <td>white</td>\n",
       "      <td>15+2</td>\n",
       "      <td>bourgris</td>\n",
       "      <td>1500</td>\n",
       "      <td>a-00</td>\n",
       "      <td>1191</td>\n",
       "      <td>d4 d5 c4 c6 cxd5 e6 dxe6 fxe6 Nf3 Bb4+ Nc3 Ba5...</td>\n",
       "      <td>D10</td>\n",
       "      <td>Slav Defense: Exchange Variation</td>\n",
       "      <td>5</td>\n",
       "    </tr>\n",
       "    <tr>\n",
       "      <th>1</th>\n",
       "      <td>l1NXvwaE</td>\n",
       "      <td>True</td>\n",
       "      <td>1.504130e+12</td>\n",
       "      <td>1.504130e+12</td>\n",
       "      <td>16</td>\n",
       "      <td>resign</td>\n",
       "      <td>black</td>\n",
       "      <td>5+10</td>\n",
       "      <td>a-00</td>\n",
       "      <td>1322</td>\n",
       "      <td>skinnerua</td>\n",
       "      <td>1261</td>\n",
       "      <td>d4 Nc6 e4 e5 f4 f6 dxe5 fxe5 fxe5 Nxe5 Qd4 Nc6...</td>\n",
       "      <td>B00</td>\n",
       "      <td>Nimzowitsch Defense: Kennedy Variation</td>\n",
       "      <td>4</td>\n",
       "    </tr>\n",
       "    <tr>\n",
       "      <th>2</th>\n",
       "      <td>mIICvQHh</td>\n",
       "      <td>True</td>\n",
       "      <td>1.504130e+12</td>\n",
       "      <td>1.504130e+12</td>\n",
       "      <td>61</td>\n",
       "      <td>mate</td>\n",
       "      <td>white</td>\n",
       "      <td>5+10</td>\n",
       "      <td>ischia</td>\n",
       "      <td>1496</td>\n",
       "      <td>a-00</td>\n",
       "      <td>1500</td>\n",
       "      <td>e4 e5 d3 d6 Be3 c6 Be2 b5 Nd2 a5 a4 c5 axb5 Nc...</td>\n",
       "      <td>C20</td>\n",
       "      <td>King's Pawn Game: Leonardis Variation</td>\n",
       "      <td>3</td>\n",
       "    </tr>\n",
       "    <tr>\n",
       "      <th>3</th>\n",
       "      <td>kWKvrqYL</td>\n",
       "      <td>True</td>\n",
       "      <td>1.504110e+12</td>\n",
       "      <td>1.504110e+12</td>\n",
       "      <td>61</td>\n",
       "      <td>mate</td>\n",
       "      <td>white</td>\n",
       "      <td>20+0</td>\n",
       "      <td>daniamurashov</td>\n",
       "      <td>1439</td>\n",
       "      <td>adivanov2009</td>\n",
       "      <td>1454</td>\n",
       "      <td>d4 d5 Nf3 Bf5 Nc3 Nf6 Bf4 Ng4 e3 Nc6 Be2 Qd7 O...</td>\n",
       "      <td>D02</td>\n",
       "      <td>Queen's Pawn Game: Zukertort Variation</td>\n",
       "      <td>3</td>\n",
       "    </tr>\n",
       "    <tr>\n",
       "      <th>4</th>\n",
       "      <td>9tXo1AUZ</td>\n",
       "      <td>True</td>\n",
       "      <td>1.504030e+12</td>\n",
       "      <td>1.504030e+12</td>\n",
       "      <td>95</td>\n",
       "      <td>mate</td>\n",
       "      <td>white</td>\n",
       "      <td>30+3</td>\n",
       "      <td>nik221107</td>\n",
       "      <td>1523</td>\n",
       "      <td>adivanov2009</td>\n",
       "      <td>1469</td>\n",
       "      <td>e4 e5 Nf3 d6 d4 Nc6 d5 Nb4 a3 Na6 Nc3 Be7 b4 N...</td>\n",
       "      <td>C41</td>\n",
       "      <td>Philidor Defense</td>\n",
       "      <td>5</td>\n",
       "    </tr>\n",
       "    <tr>\n",
       "      <th>5</th>\n",
       "      <td>MsoDV9wj</td>\n",
       "      <td>False</td>\n",
       "      <td>1.504240e+12</td>\n",
       "      <td>1.504240e+12</td>\n",
       "      <td>5</td>\n",
       "      <td>draw</td>\n",
       "      <td>draw</td>\n",
       "      <td>10+0</td>\n",
       "      <td>trelynn17</td>\n",
       "      <td>1250</td>\n",
       "      <td>franklin14532</td>\n",
       "      <td>1002</td>\n",
       "      <td>e4 c5 Nf3 Qa5 a3</td>\n",
       "      <td>B27</td>\n",
       "      <td>Sicilian Defense: Mongoose Variation</td>\n",
       "      <td>4</td>\n",
       "    </tr>\n",
       "    <tr>\n",
       "      <th>6</th>\n",
       "      <td>qwU9rasv</td>\n",
       "      <td>True</td>\n",
       "      <td>1.504230e+12</td>\n",
       "      <td>1.504230e+12</td>\n",
       "      <td>33</td>\n",
       "      <td>resign</td>\n",
       "      <td>white</td>\n",
       "      <td>10+0</td>\n",
       "      <td>capa_jr</td>\n",
       "      <td>1520</td>\n",
       "      <td>daniel_likes_chess</td>\n",
       "      <td>1423</td>\n",
       "      <td>d4 d5 e4 dxe4 Nc3 Nf6 f3 exf3 Nxf3 Nc6 Bb5 a6 ...</td>\n",
       "      <td>D00</td>\n",
       "      <td>Blackmar-Diemer Gambit: Pietrowsky Defense</td>\n",
       "      <td>10</td>\n",
       "    </tr>\n",
       "    <tr>\n",
       "      <th>7</th>\n",
       "      <td>RVN0N3VK</td>\n",
       "      <td>False</td>\n",
       "      <td>1.503680e+12</td>\n",
       "      <td>1.503680e+12</td>\n",
       "      <td>9</td>\n",
       "      <td>resign</td>\n",
       "      <td>black</td>\n",
       "      <td>15+30</td>\n",
       "      <td>daniel_likes_chess</td>\n",
       "      <td>1413</td>\n",
       "      <td>soultego</td>\n",
       "      <td>2108</td>\n",
       "      <td>e4 Nc6 d4 e5 d5 Nce7 c3 Ng6 b4</td>\n",
       "      <td>B00</td>\n",
       "      <td>Nimzowitsch Defense: Kennedy Variation |  Link...</td>\n",
       "      <td>5</td>\n",
       "    </tr>\n",
       "    <tr>\n",
       "      <th>8</th>\n",
       "      <td>dwF3DJHO</td>\n",
       "      <td>True</td>\n",
       "      <td>1.503510e+12</td>\n",
       "      <td>1.503510e+12</td>\n",
       "      <td>66</td>\n",
       "      <td>resign</td>\n",
       "      <td>black</td>\n",
       "      <td>15+0</td>\n",
       "      <td>ehabfanri</td>\n",
       "      <td>1439</td>\n",
       "      <td>daniel_likes_chess</td>\n",
       "      <td>1392</td>\n",
       "      <td>e4 e5 Bc4 Nc6 Nf3 Nd4 d3 Nxf3+ Qxf3 Nf6 h3 Bc5...</td>\n",
       "      <td>C50</td>\n",
       "      <td>Italian Game: Schilling-Kostic Gambit</td>\n",
       "      <td>6</td>\n",
       "    </tr>\n",
       "    <tr>\n",
       "      <th>9</th>\n",
       "      <td>afoMwnLg</td>\n",
       "      <td>True</td>\n",
       "      <td>1.503440e+12</td>\n",
       "      <td>1.503440e+12</td>\n",
       "      <td>119</td>\n",
       "      <td>mate</td>\n",
       "      <td>white</td>\n",
       "      <td>10+0</td>\n",
       "      <td>daniel_likes_chess</td>\n",
       "      <td>1381</td>\n",
       "      <td>mirco25</td>\n",
       "      <td>1209</td>\n",
       "      <td>e4 d5 exd5 Qxd5 Nc3 Qe5+ Be2 Na6 d4 Qf5 Bxa6 b...</td>\n",
       "      <td>B01</td>\n",
       "      <td>Scandinavian Defense: Mieses-Kotroc Variation</td>\n",
       "      <td>4</td>\n",
       "    </tr>\n",
       "  </tbody>\n",
       "</table>\n",
       "</div>"
      ],
      "text/plain": [
       "         id  rated    created_at  last_move_at  turns victory_status winner  \\\n",
       "0  TZJHLljE  False  1.504210e+12  1.504210e+12     13      outoftime  white   \n",
       "1  l1NXvwaE   True  1.504130e+12  1.504130e+12     16         resign  black   \n",
       "2  mIICvQHh   True  1.504130e+12  1.504130e+12     61           mate  white   \n",
       "3  kWKvrqYL   True  1.504110e+12  1.504110e+12     61           mate  white   \n",
       "4  9tXo1AUZ   True  1.504030e+12  1.504030e+12     95           mate  white   \n",
       "5  MsoDV9wj  False  1.504240e+12  1.504240e+12      5           draw   draw   \n",
       "6  qwU9rasv   True  1.504230e+12  1.504230e+12     33         resign  white   \n",
       "7  RVN0N3VK  False  1.503680e+12  1.503680e+12      9         resign  black   \n",
       "8  dwF3DJHO   True  1.503510e+12  1.503510e+12     66         resign  black   \n",
       "9  afoMwnLg   True  1.503440e+12  1.503440e+12    119           mate  white   \n",
       "\n",
       "  increment_code            white_id  white_rating            black_id  \\\n",
       "0           15+2            bourgris          1500                a-00   \n",
       "1           5+10                a-00          1322           skinnerua   \n",
       "2           5+10              ischia          1496                a-00   \n",
       "3           20+0       daniamurashov          1439        adivanov2009   \n",
       "4           30+3           nik221107          1523        adivanov2009   \n",
       "5           10+0           trelynn17          1250       franklin14532   \n",
       "6           10+0             capa_jr          1520  daniel_likes_chess   \n",
       "7          15+30  daniel_likes_chess          1413            soultego   \n",
       "8           15+0           ehabfanri          1439  daniel_likes_chess   \n",
       "9           10+0  daniel_likes_chess          1381             mirco25   \n",
       "\n",
       "   black_rating                                              moves  \\\n",
       "0          1191  d4 d5 c4 c6 cxd5 e6 dxe6 fxe6 Nf3 Bb4+ Nc3 Ba5...   \n",
       "1          1261  d4 Nc6 e4 e5 f4 f6 dxe5 fxe5 fxe5 Nxe5 Qd4 Nc6...   \n",
       "2          1500  e4 e5 d3 d6 Be3 c6 Be2 b5 Nd2 a5 a4 c5 axb5 Nc...   \n",
       "3          1454  d4 d5 Nf3 Bf5 Nc3 Nf6 Bf4 Ng4 e3 Nc6 Be2 Qd7 O...   \n",
       "4          1469  e4 e5 Nf3 d6 d4 Nc6 d5 Nb4 a3 Na6 Nc3 Be7 b4 N...   \n",
       "5          1002                                   e4 c5 Nf3 Qa5 a3   \n",
       "6          1423  d4 d5 e4 dxe4 Nc3 Nf6 f3 exf3 Nxf3 Nc6 Bb5 a6 ...   \n",
       "7          2108                     e4 Nc6 d4 e5 d5 Nce7 c3 Ng6 b4   \n",
       "8          1392  e4 e5 Bc4 Nc6 Nf3 Nd4 d3 Nxf3+ Qxf3 Nf6 h3 Bc5...   \n",
       "9          1209  e4 d5 exd5 Qxd5 Nc3 Qe5+ Be2 Na6 d4 Qf5 Bxa6 b...   \n",
       "\n",
       "  opening_eco                                       opening_name  opening_ply  \n",
       "0         D10                   Slav Defense: Exchange Variation            5  \n",
       "1         B00             Nimzowitsch Defense: Kennedy Variation            4  \n",
       "2         C20              King's Pawn Game: Leonardis Variation            3  \n",
       "3         D02             Queen's Pawn Game: Zukertort Variation            3  \n",
       "4         C41                                   Philidor Defense            5  \n",
       "5         B27               Sicilian Defense: Mongoose Variation            4  \n",
       "6         D00         Blackmar-Diemer Gambit: Pietrowsky Defense           10  \n",
       "7         B00  Nimzowitsch Defense: Kennedy Variation |  Link...            5  \n",
       "8         C50              Italian Game: Schilling-Kostic Gambit            6  \n",
       "9         B01      Scandinavian Defense: Mieses-Kotroc Variation            4  "
      ]
     },
     "execution_count": 31,
     "metadata": {},
     "output_type": "execute_result"
    }
   ],
   "source": [
    "data.head(10)"
   ]
  },
  {
   "cell_type": "code",
   "execution_count": 32,
   "metadata": {},
   "outputs": [],
   "source": [
    "# let's perform some data cleaning"
   ]
  },
  {
   "cell_type": "code",
   "execution_count": 33,
   "metadata": {},
   "outputs": [],
   "source": [
    "# deleting unnecessary columns from the dataset \n",
    "data.drop('id', axis = 1, inplace=True) # deleting id column\n",
    "data.drop('created_at', axis = 1, inplace=True) # deleting created_at column\n",
    "data.drop('last_move_at', axis = 1, inplace=True) # deleting lasy_move_at column\n",
    "data.drop('increment_code', axis = 1, inplace=True) # deleting increment_code column\n",
    "data.drop('moves', axis = 1, inplace=True) # deleting moves column\n",
    "data.drop('opening_eco', axis = 1, inplace=True) # deleting opening_eco col. \n",
    "data.drop('opening_name', axis = 1, inplace=True) # deleting opening_name col. "
   ]
  },
  {
   "cell_type": "code",
   "execution_count": 34,
   "metadata": {},
   "outputs": [
    {
     "data": {
      "text/html": [
       "<div>\n",
       "<style scoped>\n",
       "    .dataframe tbody tr th:only-of-type {\n",
       "        vertical-align: middle;\n",
       "    }\n",
       "\n",
       "    .dataframe tbody tr th {\n",
       "        vertical-align: top;\n",
       "    }\n",
       "\n",
       "    .dataframe thead th {\n",
       "        text-align: right;\n",
       "    }\n",
       "</style>\n",
       "<table border=\"1\" class=\"dataframe\">\n",
       "  <thead>\n",
       "    <tr style=\"text-align: right;\">\n",
       "      <th></th>\n",
       "      <th>rated</th>\n",
       "      <th>turns</th>\n",
       "      <th>victory_status</th>\n",
       "      <th>winner</th>\n",
       "      <th>white_id</th>\n",
       "      <th>white_rating</th>\n",
       "      <th>black_id</th>\n",
       "      <th>black_rating</th>\n",
       "      <th>opening_ply</th>\n",
       "    </tr>\n",
       "  </thead>\n",
       "  <tbody>\n",
       "    <tr>\n",
       "      <th>0</th>\n",
       "      <td>False</td>\n",
       "      <td>13</td>\n",
       "      <td>outoftime</td>\n",
       "      <td>white</td>\n",
       "      <td>bourgris</td>\n",
       "      <td>1500</td>\n",
       "      <td>a-00</td>\n",
       "      <td>1191</td>\n",
       "      <td>5</td>\n",
       "    </tr>\n",
       "    <tr>\n",
       "      <th>1</th>\n",
       "      <td>True</td>\n",
       "      <td>16</td>\n",
       "      <td>resign</td>\n",
       "      <td>black</td>\n",
       "      <td>a-00</td>\n",
       "      <td>1322</td>\n",
       "      <td>skinnerua</td>\n",
       "      <td>1261</td>\n",
       "      <td>4</td>\n",
       "    </tr>\n",
       "    <tr>\n",
       "      <th>2</th>\n",
       "      <td>True</td>\n",
       "      <td>61</td>\n",
       "      <td>mate</td>\n",
       "      <td>white</td>\n",
       "      <td>ischia</td>\n",
       "      <td>1496</td>\n",
       "      <td>a-00</td>\n",
       "      <td>1500</td>\n",
       "      <td>3</td>\n",
       "    </tr>\n",
       "    <tr>\n",
       "      <th>3</th>\n",
       "      <td>True</td>\n",
       "      <td>61</td>\n",
       "      <td>mate</td>\n",
       "      <td>white</td>\n",
       "      <td>daniamurashov</td>\n",
       "      <td>1439</td>\n",
       "      <td>adivanov2009</td>\n",
       "      <td>1454</td>\n",
       "      <td>3</td>\n",
       "    </tr>\n",
       "    <tr>\n",
       "      <th>4</th>\n",
       "      <td>True</td>\n",
       "      <td>95</td>\n",
       "      <td>mate</td>\n",
       "      <td>white</td>\n",
       "      <td>nik221107</td>\n",
       "      <td>1523</td>\n",
       "      <td>adivanov2009</td>\n",
       "      <td>1469</td>\n",
       "      <td>5</td>\n",
       "    </tr>\n",
       "  </tbody>\n",
       "</table>\n",
       "</div>"
      ],
      "text/plain": [
       "   rated  turns victory_status winner       white_id  white_rating  \\\n",
       "0  False     13      outoftime  white       bourgris          1500   \n",
       "1   True     16         resign  black           a-00          1322   \n",
       "2   True     61           mate  white         ischia          1496   \n",
       "3   True     61           mate  white  daniamurashov          1439   \n",
       "4   True     95           mate  white      nik221107          1523   \n",
       "\n",
       "       black_id  black_rating  opening_ply  \n",
       "0          a-00          1191            5  \n",
       "1     skinnerua          1261            4  \n",
       "2          a-00          1500            3  \n",
       "3  adivanov2009          1454            3  \n",
       "4  adivanov2009          1469            5  "
      ]
     },
     "execution_count": 34,
     "metadata": {},
     "output_type": "execute_result"
    }
   ],
   "source": [
    "data.head(5)"
   ]
  },
  {
   "cell_type": "code",
   "execution_count": 35,
   "metadata": {},
   "outputs": [
    {
     "data": {
      "text/plain": [
       "(20058, 9)"
      ]
     },
     "execution_count": 35,
     "metadata": {},
     "output_type": "execute_result"
    }
   ],
   "source": [
    "data.shape # getting an overview of the total rows & cols. after cleaning. "
   ]
  },
  {
   "cell_type": "code",
   "execution_count": 36,
   "metadata": {},
   "outputs": [
    {
     "data": {
      "text/html": [
       "<div>\n",
       "<style scoped>\n",
       "    .dataframe tbody tr th:only-of-type {\n",
       "        vertical-align: middle;\n",
       "    }\n",
       "\n",
       "    .dataframe tbody tr th {\n",
       "        vertical-align: top;\n",
       "    }\n",
       "\n",
       "    .dataframe thead th {\n",
       "        text-align: right;\n",
       "    }\n",
       "</style>\n",
       "<table border=\"1\" class=\"dataframe\">\n",
       "  <thead>\n",
       "    <tr style=\"text-align: right;\">\n",
       "      <th></th>\n",
       "      <th>rated</th>\n",
       "      <th>turns</th>\n",
       "      <th>victory_status</th>\n",
       "      <th>winner</th>\n",
       "      <th>white_id</th>\n",
       "      <th>white_rating</th>\n",
       "      <th>black_id</th>\n",
       "      <th>black_rating</th>\n",
       "      <th>opening_ply</th>\n",
       "    </tr>\n",
       "  </thead>\n",
       "  <tbody>\n",
       "    <tr>\n",
       "      <th>1</th>\n",
       "      <td>True</td>\n",
       "      <td>16</td>\n",
       "      <td>resign</td>\n",
       "      <td>black</td>\n",
       "      <td>a-00</td>\n",
       "      <td>1322</td>\n",
       "      <td>skinnerua</td>\n",
       "      <td>1261</td>\n",
       "      <td>4</td>\n",
       "    </tr>\n",
       "    <tr>\n",
       "      <th>2</th>\n",
       "      <td>True</td>\n",
       "      <td>61</td>\n",
       "      <td>mate</td>\n",
       "      <td>white</td>\n",
       "      <td>ischia</td>\n",
       "      <td>1496</td>\n",
       "      <td>a-00</td>\n",
       "      <td>1500</td>\n",
       "      <td>3</td>\n",
       "    </tr>\n",
       "    <tr>\n",
       "      <th>3</th>\n",
       "      <td>True</td>\n",
       "      <td>61</td>\n",
       "      <td>mate</td>\n",
       "      <td>white</td>\n",
       "      <td>daniamurashov</td>\n",
       "      <td>1439</td>\n",
       "      <td>adivanov2009</td>\n",
       "      <td>1454</td>\n",
       "      <td>3</td>\n",
       "    </tr>\n",
       "    <tr>\n",
       "      <th>4</th>\n",
       "      <td>True</td>\n",
       "      <td>95</td>\n",
       "      <td>mate</td>\n",
       "      <td>white</td>\n",
       "      <td>nik221107</td>\n",
       "      <td>1523</td>\n",
       "      <td>adivanov2009</td>\n",
       "      <td>1469</td>\n",
       "      <td>5</td>\n",
       "    </tr>\n",
       "    <tr>\n",
       "      <th>6</th>\n",
       "      <td>True</td>\n",
       "      <td>33</td>\n",
       "      <td>resign</td>\n",
       "      <td>white</td>\n",
       "      <td>capa_jr</td>\n",
       "      <td>1520</td>\n",
       "      <td>daniel_likes_chess</td>\n",
       "      <td>1423</td>\n",
       "      <td>10</td>\n",
       "    </tr>\n",
       "    <tr>\n",
       "      <th>...</th>\n",
       "      <td>...</td>\n",
       "      <td>...</td>\n",
       "      <td>...</td>\n",
       "      <td>...</td>\n",
       "      <td>...</td>\n",
       "      <td>...</td>\n",
       "      <td>...</td>\n",
       "      <td>...</td>\n",
       "      <td>...</td>\n",
       "    </tr>\n",
       "    <tr>\n",
       "      <th>20052</th>\n",
       "      <td>True</td>\n",
       "      <td>37</td>\n",
       "      <td>resign</td>\n",
       "      <td>white</td>\n",
       "      <td>jamboger</td>\n",
       "      <td>1219</td>\n",
       "      <td>samael88</td>\n",
       "      <td>1250</td>\n",
       "      <td>4</td>\n",
       "    </tr>\n",
       "    <tr>\n",
       "      <th>20053</th>\n",
       "      <td>True</td>\n",
       "      <td>24</td>\n",
       "      <td>resign</td>\n",
       "      <td>white</td>\n",
       "      <td>belcolt</td>\n",
       "      <td>1691</td>\n",
       "      <td>jamboger</td>\n",
       "      <td>1220</td>\n",
       "      <td>2</td>\n",
       "    </tr>\n",
       "    <tr>\n",
       "      <th>20055</th>\n",
       "      <td>True</td>\n",
       "      <td>35</td>\n",
       "      <td>mate</td>\n",
       "      <td>white</td>\n",
       "      <td>jamboger</td>\n",
       "      <td>1219</td>\n",
       "      <td>schaaksmurf3</td>\n",
       "      <td>1286</td>\n",
       "      <td>3</td>\n",
       "    </tr>\n",
       "    <tr>\n",
       "      <th>20056</th>\n",
       "      <td>True</td>\n",
       "      <td>109</td>\n",
       "      <td>resign</td>\n",
       "      <td>white</td>\n",
       "      <td>marcodisogno</td>\n",
       "      <td>1360</td>\n",
       "      <td>jamboger</td>\n",
       "      <td>1227</td>\n",
       "      <td>4</td>\n",
       "    </tr>\n",
       "    <tr>\n",
       "      <th>20057</th>\n",
       "      <td>True</td>\n",
       "      <td>78</td>\n",
       "      <td>mate</td>\n",
       "      <td>black</td>\n",
       "      <td>jamboger</td>\n",
       "      <td>1235</td>\n",
       "      <td>ffbob</td>\n",
       "      <td>1339</td>\n",
       "      <td>3</td>\n",
       "    </tr>\n",
       "  </tbody>\n",
       "</table>\n",
       "<p>17400 rows × 9 columns</p>\n",
       "</div>"
      ],
      "text/plain": [
       "       rated  turns victory_status winner       white_id  white_rating  \\\n",
       "1       True     16         resign  black           a-00          1322   \n",
       "2       True     61           mate  white         ischia          1496   \n",
       "3       True     61           mate  white  daniamurashov          1439   \n",
       "4       True     95           mate  white      nik221107          1523   \n",
       "6       True     33         resign  white        capa_jr          1520   \n",
       "...      ...    ...            ...    ...            ...           ...   \n",
       "20052   True     37         resign  white       jamboger          1219   \n",
       "20053   True     24         resign  white        belcolt          1691   \n",
       "20055   True     35           mate  white       jamboger          1219   \n",
       "20056   True    109         resign  white   marcodisogno          1360   \n",
       "20057   True     78           mate  black       jamboger          1235   \n",
       "\n",
       "                 black_id  black_rating  opening_ply  \n",
       "1               skinnerua          1261            4  \n",
       "2                    a-00          1500            3  \n",
       "3            adivanov2009          1454            3  \n",
       "4            adivanov2009          1469            5  \n",
       "6      daniel_likes_chess          1423           10  \n",
       "...                   ...           ...          ...  \n",
       "20052            samael88          1250            4  \n",
       "20053            jamboger          1220            2  \n",
       "20055        schaaksmurf3          1286            3  \n",
       "20056            jamboger          1227            4  \n",
       "20057               ffbob          1339            3  \n",
       "\n",
       "[17400 rows x 9 columns]"
      ]
     },
     "execution_count": 36,
     "metadata": {},
     "output_type": "execute_result"
    }
   ],
   "source": [
    "# getting an overview of how many players of both whites & black are good players (>=1200 rating)\n",
    "data[ (data['white_rating']>=1200) & (data['black_rating']>=1200)]"
   ]
  },
  {
   "cell_type": "markdown",
   "metadata": {},
   "source": [
    "### Bayesian classification "
   ]
  },
  {
   "cell_type": "code",
   "execution_count": 37,
   "metadata": {},
   "outputs": [],
   "source": [
    "# TIME TO USE BAYESIAN CLASSIFICATION & DECISION TREE"
   ]
  },
  {
   "cell_type": "code",
   "execution_count": 45,
   "metadata": {},
   "outputs": [],
   "source": [
    "# we use bayesian classification to determine relation between winner and the victory status. \n",
    "\n",
    "# using labelencoder()\n",
    "\n",
    "labelencoder = LabelEncoder()\n",
    "data['rated'] = labelencoder.fit_transform(data['rated'])\n",
    "data['turns'] = labelencoder.fit_transform(data['turns'])\n",
    "data['victory_status'] = labelencoder.fit_transform(data['victory_status'])\n",
    "data['winner'] = labelencoder.fit_transform(data['winner'])\n",
    "data['white_rating'] = labelencoder.fit_transform(data['white_rating'])\n",
    "data['black_rating'] = labelencoder.fit_transform(data['black_rating'])"
   ]
  },
  {
   "cell_type": "code",
   "execution_count": 52,
   "metadata": {},
   "outputs": [
    {
     "name": "stdout",
     "output_type": "stream",
     "text": [
      "0        2\n",
      "1        0\n",
      "2        2\n",
      "3        2\n",
      "4        2\n",
      "        ..\n",
      "20053    2\n",
      "20054    0\n",
      "20055    2\n",
      "20056    2\n",
      "20057    0\n",
      "Name: winner, Length: 20058, dtype: int64\n",
      "0        2\n",
      "1        3\n",
      "2        1\n",
      "3        1\n",
      "4        1\n",
      "        ..\n",
      "20053    3\n",
      "20054    1\n",
      "20055    1\n",
      "20056    3\n",
      "20057    1\n",
      "Name: victory_status, Length: 20058, dtype: int64\n"
     ]
    }
   ],
   "source": [
    "# printing data we would be using specifically\n",
    "x = data['winner']\n",
    "y = data['victory_status']\n",
    "\n",
    "print(x)\n",
    "print(y)\n"
   ]
  },
  {
   "cell_type": "code",
   "execution_count": 59,
   "metadata": {},
   "outputs": [
    {
     "name": "stdout",
     "output_type": "stream",
     "text": [
      "17567    0\n",
      "2705     0\n",
      "13043    2\n",
      "9890     0\n",
      "8317     0\n",
      "        ..\n",
      "13123    0\n",
      "19648    0\n",
      "9845     2\n",
      "10799    0\n",
      "2732     0\n",
      "Name: winner, Length: 14040, dtype: int64\n",
      "17567    1\n",
      "2705     3\n",
      "13043    3\n",
      "9890     3\n",
      "8317     2\n",
      "        ..\n",
      "13123    3\n",
      "19648    2\n",
      "9845     1\n",
      "10799    3\n",
      "2732     3\n",
      "Name: victory_status, Length: 14040, dtype: int64\n",
      "9870     2\n",
      "14355    2\n",
      "10069    0\n",
      "5951     0\n",
      "9130     1\n",
      "        ..\n",
      "17933    2\n",
      "19497    0\n",
      "8542     2\n",
      "6973     2\n",
      "15550    2\n",
      "Name: winner, Length: 6018, dtype: int64\n",
      "9870     1\n",
      "14355    3\n",
      "10069    2\n",
      "5951     3\n",
      "9130     2\n",
      "        ..\n",
      "17933    1\n",
      "19497    1\n",
      "8542     1\n",
      "6973     1\n",
      "15550    2\n",
      "Name: victory_status, Length: 6018, dtype: int64\n"
     ]
    }
   ],
   "source": [
    "# splitting data into test/train set\n",
    "\n",
    "X_train, X_test, y_train, y_test = train_test_split(x, y, test_size = 0.3, random_state = 0)\n",
    "print(X_train)\n",
    "print(y_train)\n",
    "print(X_test)\n",
    "print(y_test)\n",
    "\n",
    "X_train = X_train.values.reshape(-1,1) # series object has no reshape, hence add .values as well. \n",
    "y_train = y_train.values.reshape(-1,1)"
   ]
  },
  {
   "cell_type": "code",
   "execution_count": 58,
   "metadata": {},
   "outputs": [
    {
     "name": "stderr",
     "output_type": "stream",
     "text": [
      "C:\\Users\\Surajv\\anaconda3\\envs\\tensorflow\\lib\\site-packages\\sklearn\\utils\\validation.py:73: DataConversionWarning: A column-vector y was passed when a 1d array was expected. Please change the shape of y to (n_samples, ), for example using ravel().\n",
      "  return f(**kwargs)\n"
     ]
    },
    {
     "data": {
      "text/plain": [
       "GaussianNB()"
      ]
     },
     "execution_count": 58,
     "metadata": {},
     "output_type": "execute_result"
    }
   ],
   "source": [
    "# training the model on the training set & using naive bayes classifier \n",
    "classifier = GaussianNB()\n",
    "classifier.fit(X_train, y_train)\n"
   ]
  },
  {
   "cell_type": "code",
   "execution_count": 61,
   "metadata": {},
   "outputs": [
    {
     "data": {
      "text/plain": [
       "array([3, 3, 3, ..., 3, 3, 3], dtype=int64)"
      ]
     },
     "execution_count": 61,
     "metadata": {},
     "output_type": "execute_result"
    }
   ],
   "source": [
    "# predicting the results \n",
    "X_test = X_test.values.reshape(-1,1)\n",
    "y_pred = classifier.predict(X_test)\n",
    "y_pred"
   ]
  },
  {
   "cell_type": "code",
   "execution_count": 62,
   "metadata": {},
   "outputs": [
    {
     "name": "stdout",
     "output_type": "stream",
     "text": [
      "              precision    recall  f1-score   support\n",
      "\n",
      "           0       0.97      1.00      0.98       260\n",
      "           1       0.00      0.00      0.00      1907\n",
      "           2       0.00      0.00      0.00       481\n",
      "           3       0.59      1.00      0.74      3370\n",
      "\n",
      "    accuracy                           0.60      6018\n",
      "   macro avg       0.39      0.50      0.43      6018\n",
      "weighted avg       0.37      0.60      0.46      6018\n",
      "\n"
     ]
    },
    {
     "name": "stderr",
     "output_type": "stream",
     "text": [
      "C:\\Users\\Surajv\\anaconda3\\envs\\tensorflow\\lib\\site-packages\\sklearn\\metrics\\_classification.py:1221: UndefinedMetricWarning: Precision and F-score are ill-defined and being set to 0.0 in labels with no predicted samples. Use `zero_division` parameter to control this behavior.\n",
      "  _warn_prf(average, modifier, msg_start, len(result))\n"
     ]
    }
   ],
   "source": [
    "# confusion matrix and accuracy \n",
    "confusion_matrix(y_test, y_pred)\n",
    "\n",
    "print(classification_report(y_test, y_pred))"
   ]
  },
  {
   "cell_type": "markdown",
   "metadata": {},
   "source": [
    "### Decision trees"
   ]
  },
  {
   "cell_type": "code",
   "execution_count": 63,
   "metadata": {},
   "outputs": [],
   "source": [
    " # NOW TIME FOR USING DECISION TREES. "
   ]
  },
  {
   "cell_type": "code",
   "execution_count": 64,
   "metadata": {},
   "outputs": [
    {
     "data": {
      "text/plain": [
       "DecisionTreeClassifier(random_state=1)"
      ]
     },
     "execution_count": 64,
     "metadata": {},
     "output_type": "execute_result"
    }
   ],
   "source": [
    "# DECISION TREE CLASSIFIER \n",
    "model1 = DecisionTreeClassifier(random_state=1)\n",
    "model1.fit(X_train, y_train)\n"
   ]
  },
  {
   "cell_type": "code",
   "execution_count": 65,
   "metadata": {},
   "outputs": [
    {
     "data": {
      "text/plain": [
       "array([3, 3, 3, ..., 3, 3, 3], dtype=int64)"
      ]
     },
     "execution_count": 65,
     "metadata": {},
     "output_type": "execute_result"
    }
   ],
   "source": [
    "# time to predict \n",
    "\n",
    "y_pred1 = model1.predict(X_test)\n",
    "y_pred1"
   ]
  },
  {
   "cell_type": "code",
   "execution_count": 66,
   "metadata": {},
   "outputs": [
    {
     "name": "stdout",
     "output_type": "stream",
     "text": [
      "              precision    recall  f1-score   support\n",
      "\n",
      "           0       0.97      1.00      0.98       260\n",
      "           1       0.00      0.00      0.00      1907\n",
      "           2       0.00      0.00      0.00       481\n",
      "           3       0.59      1.00      0.74      3370\n",
      "\n",
      "    accuracy                           0.60      6018\n",
      "   macro avg       0.39      0.50      0.43      6018\n",
      "weighted avg       0.37      0.60      0.46      6018\n",
      "\n"
     ]
    },
    {
     "name": "stderr",
     "output_type": "stream",
     "text": [
      "C:\\Users\\Surajv\\anaconda3\\envs\\tensorflow\\lib\\site-packages\\sklearn\\metrics\\_classification.py:1221: UndefinedMetricWarning: Precision and F-score are ill-defined and being set to 0.0 in labels with no predicted samples. Use `zero_division` parameter to control this behavior.\n",
      "  _warn_prf(average, modifier, msg_start, len(result))\n"
     ]
    }
   ],
   "source": [
    "# confusion matrix and accuracy \n",
    "\n",
    "confusion_matrix(y_test,y_pred1)\n",
    "print(classification_report(y_test, y_pred1))"
   ]
  },
  {
   "cell_type": "code",
   "execution_count": 69,
   "metadata": {},
   "outputs": [
    {
     "name": "stdout",
     "output_type": "stream",
     "text": [
      "predicted values got from gini index:\n",
      "[3 3 3 ... 3 3 3]\n"
     ]
    }
   ],
   "source": [
    "# using gini classifier \n",
    "clf_gini = DecisionTreeClassifier(criterion = \"gini\",random_state = 100,max_depth=3, min_samples_leaf=5)\n",
    "\n",
    "# training using gini \n",
    "clf_gini = clf_gini.fit(X_train, y_train)\n",
    "\n",
    "def prediction(X_test, clf_object):\n",
    "    y_pred = clf_object.predict(X_test)\n",
    "    print(\"predicted values got from gini index:\")\n",
    "    print(y_pred)\n",
    "    return y_pred\n",
    "\n",
    "#predicting using gini\n",
    "y_pred_gini = prediction(X_test, clf_gini)"
   ]
  },
  {
   "cell_type": "code",
   "execution_count": 70,
   "metadata": {},
   "outputs": [
    {
     "name": "stdout",
     "output_type": "stream",
     "text": [
      "[[ 260    0    0    0]\n",
      " [   0    0    0 1907]\n",
      " [   8    0    0  473]\n",
      " [   0    0    0 3370]]\n"
     ]
    }
   ],
   "source": [
    "\n",
    "# printing the confusion matrix\n",
    "print(confusion_matrix(y_test, y_pred))"
   ]
  },
  {
   "cell_type": "code",
   "execution_count": 73,
   "metadata": {},
   "outputs": [
    {
     "name": "stdout",
     "output_type": "stream",
     "text": [
      "60.31904287138584\n"
     ]
    }
   ],
   "source": [
    "# accuracy \n",
    "print (accuracy_score(y_test,y_pred)*100)"
   ]
  },
  {
   "cell_type": "code",
   "execution_count": 74,
   "metadata": {},
   "outputs": [
    {
     "name": "stdout",
     "output_type": "stream",
     "text": [
      "              precision    recall  f1-score   support\n",
      "\n",
      "           0       0.97      1.00      0.98       260\n",
      "           1       0.00      0.00      0.00      1907\n",
      "           2       0.00      0.00      0.00       481\n",
      "           3       0.59      1.00      0.74      3370\n",
      "\n",
      "    accuracy                           0.60      6018\n",
      "   macro avg       0.39      0.50      0.43      6018\n",
      "weighted avg       0.37      0.60      0.46      6018\n",
      "\n"
     ]
    }
   ],
   "source": [
    "# final report       \n",
    "print(classification_report(y_test, y_pred))"
   ]
  },
  {
   "cell_type": "code",
   "execution_count": null,
   "metadata": {},
   "outputs": [],
   "source": []
  },
  {
   "cell_type": "code",
   "execution_count": null,
   "metadata": {},
   "outputs": [],
   "source": []
  },
  {
   "cell_type": "code",
   "execution_count": null,
   "metadata": {},
   "outputs": [],
   "source": []
  }
 ],
 "metadata": {
  "kernelspec": {
   "display_name": "Python 3",
   "language": "python",
   "name": "python3"
  },
  "language_info": {
   "codemirror_mode": {
    "name": "ipython",
    "version": 3
   },
   "file_extension": ".py",
   "mimetype": "text/x-python",
   "name": "python",
   "nbconvert_exporter": "python",
   "pygments_lexer": "ipython3",
   "version": "3.7.7"
  }
 },
 "nbformat": 4,
 "nbformat_minor": 4
}
